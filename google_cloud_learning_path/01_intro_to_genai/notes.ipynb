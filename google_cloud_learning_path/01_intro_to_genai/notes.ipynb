{
 "cells": [
  {
   "cell_type": "markdown",
   "metadata": {},
   "source": [
    "# Define generative AI"
   ]
  },
  {
   "cell_type": "markdown",
   "metadata": {},
   "source": [
    "Type of AI tech that can produce various types of content"
   ]
  },
  {
   "cell_type": "markdown",
   "metadata": {},
   "source": [
    "## Artificial Intelligence"
   ]
  },
  {
   "cell_type": "markdown",
   "metadata": {},
   "source": [
    "### AI VS ML"
   ]
  },
  {
   "cell_type": "markdown",
   "metadata": {},
   "source": [
    "\n",
    "AI is a **discipline**\n",
    "- Like how physics is a discipline of science\n",
    "- Branch of CS that deals with the creation of intelligence agent and/or system that can reason, learn, and act autonomously\n",
    "- Theory and methods to buiild a machine that thinks and acts like human\n",
    "\n",
    "ML is a **sub field**\n",
    "- Program or system that trains a model from an input data.\n",
    "- Machine learning gives computer the ability to learn without explicit programming\n",
    "- classes of ML\n",
    "    - Supervised\n",
    "    - Unsupervised"
   ]
  },
  {
   "cell_type": "markdown",
   "metadata": {},
   "source": [
    "### Deep Learning"
   ]
  },
  {
   "cell_type": "markdown",
   "metadata": {},
   "source": [
    "- DL is a type of machine learning\n",
    "- typically have lots of neuron\n",
    "- **Semi-supervised learning**\n",
    "     - NN trained on a small amount of labelled data -> learn the basic concept of the task\n",
    "     - and large amount of unlabelled data -> help to generalize to new examples"
   ]
  },
  {
   "cell_type": "markdown",
   "metadata": {},
   "source": [
    "### GenAI"
   ]
  },
  {
   "cell_type": "markdown",
   "metadata": {},
   "source": [
    "- GenAI is a subset of DL\n",
    "- LLM is also a subset of DL"
   ]
  },
  {
   "cell_type": "markdown",
   "metadata": {},
   "source": [
    "### Discriminative VS Generative Model"
   ]
  },
  {
   "cell_type": "markdown",
   "metadata": {},
   "source": [
    "- Discriminative\n",
    "    - Used to clasify or predict label for data points\n",
    "    - learn the relationship between the features of the data points and the label\n",
    "    - trained model can predict label for new data points\n",
    "- Generative\n",
    "    - Generates new data instances based on a learned probability distribution of existing model\n",
    "    - generative model generates new content"
   ]
  },
  {
   "cell_type": "code",
   "execution_count": null,
   "metadata": {
    "vscode": {
     "languageId": "plaintext"
    }
   },
   "outputs": [],
   "source": []
  },
  {
   "cell_type": "code",
   "execution_count": null,
   "metadata": {
    "vscode": {
     "languageId": "plaintext"
    }
   },
   "outputs": [],
   "source": []
  },
  {
   "cell_type": "code",
   "execution_count": null,
   "metadata": {
    "vscode": {
     "languageId": "plaintext"
    }
   },
   "outputs": [],
   "source": []
  },
  {
   "cell_type": "code",
   "execution_count": null,
   "metadata": {
    "vscode": {
     "languageId": "plaintext"
    }
   },
   "outputs": [],
   "source": []
  },
  {
   "cell_type": "code",
   "execution_count": null,
   "metadata": {
    "vscode": {
     "languageId": "plaintext"
    }
   },
   "outputs": [],
   "source": []
  }
 ],
 "metadata": {
  "language_info": {
   "name": "python"
  }
 },
 "nbformat": 4,
 "nbformat_minor": 2
}

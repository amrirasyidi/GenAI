{
 "cells": [
  {
   "cell_type": "markdown",
   "metadata": {},
   "source": [
    "# Content\n",
    "\n",
    "- Define Large Language Models (LLMs)\n",
    "- Describe LLM use cases\n",
    "- Explain prompt tuning and describe Google's gen AI development tools"
   ]
  },
  {
   "cell_type": "markdown",
   "metadata": {},
   "source": [
    "# Definition"
   ]
  },
  {
   "cell_type": "markdown",
   "metadata": {},
   "source": [
    "- LLMs are subset of deep learning\n",
    "- LLMs refer to large, general-purpose language models that can be _pre-trained_ and then _fine-tuned_ for specific purposes\n",
    "    - fine-tuning -> specialize the model for a specific purposes\n",
    "\n",
    "- LLM\n",
    "    - Large\n",
    "        - Large training dataset\n",
    "        - large number of parameters\n",
    "    - General purposes\n",
    "        - Commonality of human languages\n",
    "        - resource restriction\n",
    "    - pre-trained & fine-tuned"
   ]
  },
  {
   "cell_type": "markdown",
   "metadata": {},
   "source": [
    "# Use cases"
   ]
  },
  {
   "cell_type": "markdown",
   "metadata": {},
   "source": [
    "- Language translation\n",
    "- Sentence completion\n",
    "- text classification\n",
    "- QA\n",
    "- etc"
   ]
  },
  {
   "cell_type": "markdown",
   "metadata": {},
   "source": [
    "# PaLM 2"
   ]
  },
  {
   "cell_type": "markdown",
   "metadata": {},
   "source": [
    "- Pathways Language Model\n",
    "    - Has 540 bil params\n",
    "    - Leverage the new Pathways system\n",
    "    - Orchestrates distributed computation for accelerators"
   ]
  },
  {
   "cell_type": "code",
   "execution_count": null,
   "metadata": {},
   "outputs": [],
   "source": []
  },
  {
   "cell_type": "code",
   "execution_count": null,
   "metadata": {},
   "outputs": [],
   "source": []
  },
  {
   "cell_type": "code",
   "execution_count": null,
   "metadata": {},
   "outputs": [],
   "source": []
  }
 ],
 "metadata": {
  "language_info": {
   "name": "python"
  }
 },
 "nbformat": 4,
 "nbformat_minor": 2
}
